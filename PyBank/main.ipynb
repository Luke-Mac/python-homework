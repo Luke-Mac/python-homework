{
 "cells": [
  {
   "cell_type": "code",
   "execution_count": null,
   "id": "9abce68a-f74f-4457-9b5f-49aedcbfd5a3",
   "metadata": {},
   "outputs": [],
   "source": [
    "\"\"\"\n",
    "PyBank\n",
    "1. Import budget_data.csv file \n",
    "Initialize variables total_months, net_total_pnl, average_change_pnl, greatest_increase_in_profits, greatest_decrease_in_profits\n",
    "2. Count number of months in dataset.\n",
    "3. Compute net total amount of all profits/losses in dataset.\n",
    "4. Compute average of the changes in profit/losses in dataset.\n",
    "        Initialise new list to hold changes. (current - previous) +1\n",
    "5. Compute the greatest (maximum) increase in profits (date + amount) over dataset.\n",
    "        Logic to determine maximum increase\n",
    "6. Compute the greatest (minimum) decrease in losses (date + amount) over dataset.\n",
    "7. Print results to terminal and create and export a text file with results.\n",
    "\"\"\""
   ]
  },
  {
   "cell_type": "code",
   "execution_count": null,
   "id": "3c5724c8-5341-4bd9-b8d4-bb3d47b9798f",
   "metadata": {},
   "outputs": [],
   "source": [
    "# Import the pathlib and csv library\n",
    "from pathlib import Path\n",
    "import csv\n",
    "\n",
    "# Set the file path\n",
    "csvpath = Path('../Pybank/budget_data.csv')"
   ]
  },
  {
   "cell_type": "code",
   "execution_count": null,
   "id": "816dfb43-cb71-4db6-8da5-cf4427879f65",
   "metadata": {},
   "outputs": [],
   "source": [
    "# Initialise variables\n",
    "total_months = 0\n",
    "net_total_pnl = 0\n",
    "average_change_pnl = 0\n",
    "greatest_increase_in_profits = 0\n",
    "greatest_decrease_in_profits = 0"
   ]
  },
  {
   "cell_type": "code",
   "execution_count": null,
   "id": "e848573e-244b-406f-9efd-edefa4b7397a",
   "metadata": {},
   "outputs": [],
   "source": [
    "# Initialise list to hold changes in profit/losses\n",
    "changes = []"
   ]
  },
  {
   "cell_type": "code",
   "execution_count": null,
   "id": "81b6f86b-b136-46c2-99e5-59a843ab11dd",
   "metadata": {},
   "outputs": [],
   "source": [
    "# Define a function called calculate_changes with three arguments: todays_pnl, yesterdays_pnl, change_in_pnl\n",
    "def calculate_changes(todays_pnl, yesterdays_pnl, change_in_pnl):\n",
    "    change_in_pnl = (todays_pnl - yesterdays_pnl)\n",
    "    \n",
    "    # Populate changes\n",
    "    changes.append(change_in_pnl)\n",
    "   "
   ]
  },
  {
   "cell_type": "code",
   "execution_count": null,
   "id": "e7ae3726-a9ad-4f75-8d36-a73aa57902d8",
   "metadata": {},
   "outputs": [],
   "source": [
    "# Iterate over each element in set\n",
    "for pnl in # add file budget_data.csv:"
   ]
  },
  {
   "cell_type": "code",
   "execution_count": null,
   "id": "d9c5680c-090a-4a9c-b4d5-015e6f865aea",
   "metadata": {},
   "outputs": [],
   "source": [
    "    ## print(len(dataset)) - number of items in set\n",
    "    # Cumulatively sum up the net_total_pnl and count of total_months\n",
    "    net_total_pnl += pnl\n",
    "    total_months += 1\n"
   ]
  },
  {
   "cell_type": "code",
   "execution_count": null,
   "id": "a095bd1f-fcb7-4294-a7e7-14c9b3e9b2e9",
   "metadata": {},
   "outputs": [],
   "source": [
    "# Iterate over each element in set\n",
    "for change in changes:\n",
    "    if greatest_decrease_in_profits == 0:\n",
    "        greatest_decrease_in_profits = change\n",
    "    elif change < greatest_decrease_in_profits:\n",
    "        greatest_decrease_in_profits = change\n",
    "    elif change > greatest_increase_in_profits:\n",
    "        greatest_increase_in_profits = change"
   ]
  },
  {
   "cell_type": "code",
   "execution_count": null,
   "id": "127d7044-2b24-48df-83c7-3ab59a2a199c",
   "metadata": {},
   "outputs": [],
   "source": []
  },
  {
   "cell_type": "code",
   "execution_count": null,
   "id": "c9154213-8904-4df2-908e-464069bad9fb",
   "metadata": {},
   "outputs": [],
   "source": [
    "# Print Financial Analysis to screen\n",
    "print(\"Financial Analysis\")\n",
    "print(\"---------------------------\"\n",
    "print(f\"Total Months: {total_months}\")\n",
    "print(f\"Total Profits/Losses: ${net_total_pnl}\")\n",
    "print(f\"Average Change: ${average_change_pnl}\")\n",
    "print(f\"Greatest Increase in Profits: ${greatest_increase_in_profits}\") # add date & profit\n",
    "print(f\"Greatest Decrease in Profits: ${greatest_decrease_in_profits}\")"
   ]
  },
  {
   "cell_type": "code",
   "execution_count": null,
   "id": "ad41f76d-841b-4160-ac9f-7487e0adb275",
   "metadata": {},
   "outputs": [],
   "source": [
    "# Export the results as a text file"
   ]
  }
 ],
 "metadata": {
  "kernelspec": {
   "display_name": "Python 3",
   "language": "python",
   "name": "python3"
  },
  "language_info": {
   "codemirror_mode": {
    "name": "ipython",
    "version": 3
   },
   "file_extension": ".py",
   "mimetype": "text/x-python",
   "name": "python",
   "nbconvert_exporter": "python",
   "pygments_lexer": "ipython3",
   "version": "3.8.8"
  }
 },
 "nbformat": 4,
 "nbformat_minor": 5
}
