{
 "cells": [
  {
   "cell_type": "code",
   "execution_count": 15,
   "id": "9abce68a-f74f-4457-9b5f-49aedcbfd5a3",
   "metadata": {},
   "outputs": [],
   "source": [
    "#PyBank\n",
    "#1. Import budget_data.csv file and library\n",
    "#        Set file path\n",
    "#2. Initialize variables total_months, net_total_pnl, average_change_pnl, greatest_increase_in_profits, greatest_decrease_in_profits\n",
    "#3. Count number of months in dataset.\n",
    "#4. Compute net total amount of all profits/losses in dataset.\n",
    "#5. Compute average of the changes in profit/losses in dataset. \n",
    "#        Create loop & initialise new list to append to changes. Initialise variables current = 1, previous = 0\n",
    "#        Use average_change = (current[1] - previous[0]).\n",
    "#        Calculate average of changes: average = round(sum(net total pnl / total months),2)\n",
    "#        \n",
    "#6. Compute the greatest (maximum) increase in profits (date + amount) over dataset.\n",
    "#        Logic to determine maximum increase\n",
    "#7. Compute the greatest (minimum) decrease in losses (date + amount) over dataset.\n",
    "#8. Print results to terminal and create and export a text file with results.\n"
   ]
  },
  {
   "cell_type": "code",
   "execution_count": 16,
   "id": "3c5724c8-5341-4bd9-b8d4-bb3d47b9798f",
   "metadata": {},
   "outputs": [],
   "source": [
    "# Import the pathlib and csv library\n",
    "from pathlib import Path\n",
    "import csv\n",
    "\n",
    "# Set the file path\n",
    "csvpath = Path('../Pybank/budget_data.csv')\n"
   ]
  },
  {
   "cell_type": "code",
   "execution_count": 17,
   "id": "e848573e-244b-406f-9efd-edefa4b7397a",
   "metadata": {},
   "outputs": [],
   "source": [
    "# Initialise lists to hold \"months\", \"pnl\" & \"changes\" in profit/losses\n",
    "months = []\n",
    "pnl = []\n",
    "changes = []"
   ]
  },
  {
   "cell_type": "code",
   "execution_count": 18,
   "id": "73d63cea-04e4-4627-9765-df5ddb936ecc",
   "metadata": {},
   "outputs": [],
   "source": [
    "# Open the csv file as an object\n",
    "with open(csvpath, 'r') as csvfile:\n",
    "    # Pass in the csv file to the csv.reader() function\n",
    "    # (with ',' as the delimiter/separator) and return the csvreader object \n",
    "    csvreader = csv.reader(csvfile, delimiter=\",\")\n",
    "    \n",
    "    # Read header row first of budget_data.csv\n",
    "    csv_header = next(csvreader)\n",
    "    # Separate data into lists\n",
    "    for row in csvreader:\n",
    "        months.append(row[0])\n",
    "        pnl.append(int(row[1]))\n",
    "          "
   ]
  },
  {
   "cell_type": "code",
   "execution_count": 19,
   "id": "816dfb43-cb71-4db6-8da5-cf4427879f65",
   "metadata": {},
   "outputs": [],
   "source": [
    "# Initialise variables\n",
    "total_months = 0\n",
    "net_total_pnl = 0\n",
    "average_change_pnl = 0\n",
    "greatest_increase_in_profits = 0\n",
    "greatest_decrease_in_profits = 0"
   ]
  },
  {
   "cell_type": "code",
   "execution_count": 20,
   "id": "ad71e7e4-21f7-49c4-aa7e-efad812889f1",
   "metadata": {
    "tags": []
   },
   "outputs": [
    {
     "name": "stdout",
     "output_type": "stream",
     "text": [
      "86\n",
      "38382578\n"
     ]
    }
   ],
   "source": [
    "    # Calculate the number of months\n",
    "    total_months = len(months)\n",
    "    print(total_months)\n",
    "    \n",
    "    # Calculate the total sum of profit & losses\n",
    "    net_total_pnl = sum(pnl)\n",
    "    print(net_total_pnl)"
   ]
  },
  {
   "cell_type": "code",
   "execution_count": null,
   "id": "b5621320-8374-40d9-96dd-f6460ae762ce",
   "metadata": {},
   "outputs": [],
   "source": [
    "    # Append the column 'Average Change' to the header\n",
    "    csv_header.append(\"Average Change\")\n",
    "    print(csv_header)\n",
    "   \n",
    "        # Set the variables 'date', 'profit_losses \n",
    "        #date = row[0]\n",
    "        #profit_losses = int(row[1])\n",
    "        #average_change = int(row[2])\n",
    "        \n",
    "        # Append the columns to list\n",
    "        #month.append(row[0])\n",
    "        #pnl.append(row[1])\n",
    "        #print(month, pnl)\n",
    "        #print(net_total_pnl)\n",
    "       \n",
    "        "
   ]
  },
  {
   "cell_type": "code",
   "execution_count": 21,
   "id": "67105e35-6936-461b-b6a0-0f847e723330",
   "metadata": {},
   "outputs": [],
   "source": [
    "# Initialise variables current = 1, previous = 0\n",
    "current_month = 1\n",
    "previous_month = 0\n",
    "\n",
    "# Create loop to append to changes. \n",
    "for month in range(total_months-1):\n",
    "    average_change_pnl = (pnl[current_month] - pnl[previous_month])\n",
    "    changes.append(int(average_change_pnl))\n",
    "    current_month += 1\n",
    "    previous_month += 1\n",
    "#    print(changes)\n",
    "\n",
    "#        Use average_change = (current[1] - previous[0]).\n",
    "#        Calculate average of changes: average = round(sum(net total pnl / total months-1),2)"
   ]
  },
  {
   "cell_type": "code",
   "execution_count": null,
   "id": "81b6f86b-b136-46c2-99e5-59a843ab11dd",
   "metadata": {},
   "outputs": [],
   "source": [
    "#for i in range ((total_months) -1):\n",
    "#    todays_pnl = changes[i]\n",
    "#    todays_date = date[\"\"]\n",
    "#    yesterdays_pnl = changes[i+1]\n",
    "    \n",
    "    \n",
    "# Define a function called calculate_changes with three arguments: todays_pnl, yesterdays_pnl, change_in_pnl\n",
    "#def calculate_changes(todays_pnl, yesterdays_pnl, change_in_pnl):\n",
    "#    change_in_pnl = (todays_pnl - yesterdays_pnl)\n",
    "    \n",
    "    # Populate changes\n",
    "#    changes.append(change_in_pnl)\n",
    "   "
   ]
  },
  {
   "cell_type": "code",
   "execution_count": 22,
   "id": "546ce1a5-f2fe-4d57-accd-91ac1ec4a396",
   "metadata": {},
   "outputs": [
    {
     "name": "stdout",
     "output_type": "stream",
     "text": [
      "-2315.12\n"
     ]
    }
   ],
   "source": [
    "# Calculate average of changes: average = round(sum(net total pnl / total months-1),2)\n",
    "average_change_pnl = (round(sum(changes)/(total_months-1),2))\n",
    "print(average_change_pnl)"
   ]
  },
  {
   "cell_type": "code",
   "execution_count": 23,
   "id": "a095bd1f-fcb7-4294-a7e7-14c9b3e9b2e9",
   "metadata": {},
   "outputs": [],
   "source": [
    "# Iterate over each element in set\n",
    "for change in changes:\n",
    "    if greatest_decrease_in_profits == 0:\n",
    "        greatest_decrease_in_profits = change\n",
    "    elif change < greatest_decrease_in_profits:\n",
    "        greatest_decrease_in_profits = change\n",
    "    elif change > greatest_increase_in_profits:\n",
    "        greatest_increase_in_profits = change"
   ]
  },
  {
   "cell_type": "code",
   "execution_count": null,
   "id": "127d7044-2b24-48df-83c7-3ab59a2a199c",
   "metadata": {},
   "outputs": [],
   "source": []
  },
  {
   "cell_type": "code",
   "execution_count": 27,
   "id": "c9154213-8904-4df2-908e-464069bad9fb",
   "metadata": {},
   "outputs": [
    {
     "name": "stdout",
     "output_type": "stream",
     "text": [
      "Financial Analysis\n",
      "---------------------------\n",
      "Total Months: 86\n",
      "Total Profits/Losses: $38382578\n",
      "Average Change: $-2315.12\n",
      "Greatest Increase in Profits: $1926159\n",
      "Greatest Decrease in Profits: $-2196167\n"
     ]
    }
   ],
   "source": [
    "# Print Financial Analysis to screen\n",
    "print(\"Financial Analysis\")\n",
    "print(\"---------------------------\")\n",
    "print(f\"Total Months: {total_months}\")\n",
    "print(f\"Total Profits/Losses: ${net_total_pnl}\")\n",
    "print(f\"Average Change: ${average_change_pnl}\")\n",
    "print(f\"Greatest Increase in Profits: ${greatest_increase_in_profits}\") # add date & profit\n",
    "print(f\"Greatest Decrease in Profits: ${greatest_decrease_in_profits}\") # add date & profit"
   ]
  },
  {
   "cell_type": "code",
   "execution_count": null,
   "id": "ad41f76d-841b-4160-ac9f-7487e0adb275",
   "metadata": {},
   "outputs": [],
   "source": [
    "# Export the results as a text file\n",
    "output_path = 'results.txt'\n",
    "\n",
    "# Open the output_path as a file object\n",
    "with open(output_path, 'w') as file:\n",
    "    # Write all results of Financial Analysis to the output file\n",
    "    file.write(\"Financial Analysis\")\n",
    "    file.write(\"---------------------------\"\n",
    "    file.write(f\"Total Months: {total_months}\")\n",
    "    file.write(f\"Total Profits/Losses: ${net_total_pnl}\")\n",
    "    file.write(f\"Average Change: ${average_change_pnl}\")\n",
    "    file.write(f\"Greatest Increase in Profits: ${greatest_increase_in_profits}\") # add date & profit\n",
    "    file.write(f\"Greatest Decrease in Profits: ${greatest_decrease_in_profits}\")\n",
    "file.close()"
   ]
  },
  {
   "cell_type": "code",
   "execution_count": null,
   "id": "d628aec3-2698-40ae-abcb-c5d069940de0",
   "metadata": {},
   "outputs": [],
   "source": []
  }
 ],
 "metadata": {
  "kernelspec": {
   "display_name": "Python 3",
   "language": "python",
   "name": "python3"
  },
  "language_info": {
   "codemirror_mode": {
    "name": "ipython",
    "version": 3
   },
   "file_extension": ".py",
   "mimetype": "text/x-python",
   "name": "python",
   "nbconvert_exporter": "python",
   "pygments_lexer": "ipython3",
   "version": "3.8.8"
  }
 },
 "nbformat": 4,
 "nbformat_minor": 5
}
