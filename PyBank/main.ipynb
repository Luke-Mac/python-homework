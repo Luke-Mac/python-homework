{
 "cells": [
  {
   "cell_type": "code",
   "execution_count": null,
   "id": "9abce68a-f74f-4457-9b5f-49aedcbfd5a3",
   "metadata": {},
   "outputs": [],
   "source": [
    "\"\"\"\n",
    "PyBank\n",
    "1. Import budget_data.csv file and library\n",
    "        Set file path\n",
    "2. Initialize variables total_months, net_total_pnl, average_change_pnl, greatest_increase_in_profits, greatest_decrease_in_profits\n",
    "3. Count number of months in dataset.\n",
    "4. Compute net total amount of all profits/losses in dataset.\n",
    "5. Compute average of the changes in profit/losses in dataset.\n",
    "        Initialise new list to hold changes. (current - previous) +1\n",
    "6. Compute the greatest (maximum) increase in profits (date + amount) over dataset.\n",
    "        Logic to determine maximum increase\n",
    "7. Compute the greatest (minimum) decrease in losses (date + amount) over dataset.\n",
    "8. Print results to terminal and create and export a text file with results.\n",
    "\"\"\""
   ]
  },
  {
   "cell_type": "code",
   "execution_count": null,
   "id": "3c5724c8-5341-4bd9-b8d4-bb3d47b9798f",
   "metadata": {},
   "outputs": [],
   "source": [
    "# Import the pathlib and csv library\n",
    "from pathlib import Path\n",
    "import csv\n",
    "\n",
    "# Set the file path\n",
    "csvpath = Path('../Pybank/budget_data.csv')"
   ]
  },
  {
   "cell_type": "code",
   "execution_count": null,
   "id": "884d5e93-223f-4657-8888-3327c247920e",
   "metadata": {},
   "outputs": [],
   "source": [
    "# Initialise dictionary\n",
    "analysis = {}"
   ]
  },
  {
   "cell_type": "code",
   "execution_count": 108,
   "id": "816dfb43-cb71-4db6-8da5-cf4427879f65",
   "metadata": {},
   "outputs": [],
   "source": [
    "# Initialise variables\n",
    "total_months = 0\n",
    "net_total_pnl = 0\n",
    "average_change_pnl = 0\n",
    "greatest_increase_in_profits = 0\n",
    "greatest_decrease_in_profits = 0"
   ]
  },
  {
   "cell_type": "code",
   "execution_count": 117,
   "id": "178252da-d2a1-47d3-9246-ea6a2be34207",
   "metadata": {},
   "outputs": [],
   "source": [
    "# Open the csv file as an object\n",
    "with open(csvpath, 'r') as csvfile:\n",
    "    # Pass in the csv file to the csv.reader() function\n",
    "    # (with ',' as the delimiter/separator) and return the csvreader object \n",
    "    csvreader = csv.reader(csvfile, delimiter=\",\")\n",
    "    \n",
    "    # Read header row first of budget_data.csv\n",
    "    csv_header = next(csvreader)\n",
    "    \n",
    "    # Read each row of data after the header\n",
    "    for row in csvreader:\n",
    "        number = (row)\n",
    "        \n",
    "        # Set the variables 'date', 'profit_losses \n",
    "        date = row[0]\n",
    "        profit_losses = int(row[1])\n",
    "               \n",
    "        "
   ]
  },
  {
   "cell_type": "code",
   "execution_count": 118,
   "id": "d9c5680c-090a-4a9c-b4d5-015e6f865aea",
   "metadata": {},
   "outputs": [
    {
     "ename": "TypeError",
     "evalue": "unsupported operand type(s) for +=: 'int' and 'list'",
     "output_type": "error",
     "traceback": [
      "\u001b[1;31m---------------------------------------------------------------------------\u001b[0m",
      "\u001b[1;31mTypeError\u001b[0m                                 Traceback (most recent call last)",
      "\u001b[1;32m<ipython-input-118-bcb92d8ad94b>\u001b[0m in \u001b[0;36m<module>\u001b[1;34m\u001b[0m\n\u001b[0;32m      1\u001b[0m \u001b[1;31m# Cumulatively sum up the net_total_pnl and count of total_months\u001b[0m\u001b[1;33m\u001b[0m\u001b[1;33m\u001b[0m\u001b[1;33m\u001b[0m\u001b[0m\n\u001b[1;32m----> 2\u001b[1;33m \u001b[0mnet_total_pnl\u001b[0m \u001b[1;33m+=\u001b[0m \u001b[0mnumber\u001b[0m\u001b[1;33m\u001b[0m\u001b[1;33m\u001b[0m\u001b[0m\n\u001b[0m\u001b[0;32m      3\u001b[0m \u001b[0mtotal_months\u001b[0m \u001b[1;33m+=\u001b[0m \u001b[1;36m1\u001b[0m\u001b[1;33m\u001b[0m\u001b[1;33m\u001b[0m\u001b[0m\n",
      "\u001b[1;31mTypeError\u001b[0m: unsupported operand type(s) for +=: 'int' and 'list'"
     ]
    }
   ],
   "source": [
    "        # Cumulatively sum up the net_total_pnl and count of total_months\n",
    "        net_total_pnl += number\n",
    "        total_months += 1\n"
   ]
  },
  {
   "cell_type": "code",
   "execution_count": null,
   "id": "e848573e-244b-406f-9efd-edefa4b7397a",
   "metadata": {},
   "outputs": [],
   "source": [
    "# Initialise list to hold changes in profit/losses\n",
    "changes = []\n",
    "\n",
    " # Append the column 'Average Change' to the header\n",
    "    csv_header.append(\"Average Change\")"
   ]
  },
  {
   "cell_type": "code",
   "execution_count": null,
   "id": "e7ae3726-a9ad-4f75-8d36-a73aa57902d8",
   "metadata": {},
   "outputs": [],
   "source": [
    "# Iterate over each element in set\n",
    "for pnl in csvreader:"
   ]
  },
  {
   "cell_type": "code",
   "execution_count": null,
   "id": "81b6f86b-b136-46c2-99e5-59a843ab11dd",
   "metadata": {},
   "outputs": [],
   "source": [
    "for i in range(len(csvreader) -1):\n",
    "    todays_pnl = changes[i]\n",
    "    todays_date = date[\"\"]\n",
    "    yesterdays_pnl = changes[i+1]\n",
    "    \n",
    "    \n",
    "# Define a function called calculate_changes with three arguments: todays_pnl, yesterdays_pnl, change_in_pnl\n",
    "def calculate_changes(todays_pnl, yesterdays_pnl, change_in_pnl):\n",
    "    change_in_pnl = (todays_pnl - yesterdays_pnl)\n",
    "    \n",
    "    # Populate changes\n",
    "    changes.append(change_in_pnl)\n",
    "   "
   ]
  },
  {
   "cell_type": "code",
   "execution_count": null,
   "id": "a095bd1f-fcb7-4294-a7e7-14c9b3e9b2e9",
   "metadata": {},
   "outputs": [],
   "source": [
    "# Iterate over each element in set\n",
    "for change in changes:\n",
    "    if greatest_decrease_in_profits == 0:\n",
    "        greatest_decrease_in_profits = change\n",
    "    elif change < greatest_decrease_in_profits:\n",
    "        greatest_decrease_in_profits = change\n",
    "    elif change > greatest_increase_in_profits:\n",
    "        greatest_increase_in_profits = change"
   ]
  },
  {
   "cell_type": "code",
   "execution_count": null,
   "id": "127d7044-2b24-48df-83c7-3ab59a2a199c",
   "metadata": {},
   "outputs": [],
   "source": []
  },
  {
   "cell_type": "code",
   "execution_count": null,
   "id": "c9154213-8904-4df2-908e-464069bad9fb",
   "metadata": {},
   "outputs": [],
   "source": [
    "# Print Financial Analysis to screen\n",
    "print(\"Financial Analysis\")\n",
    "print(\"---------------------------\"\n",
    "print(f\"Total Months: {total_months}\")\n",
    "print(f\"Total Profits/Losses: ${net_total_pnl}\")\n",
    "print(f\"Average Change: ${average_change_pnl}\")\n",
    "print(f\"Greatest Increase in Profits: ${greatest_increase_in_profits}\") # add date & profit\n",
    "print(f\"Greatest Decrease in Profits: ${greatest_decrease_in_profits}\")"
   ]
  },
  {
   "cell_type": "code",
   "execution_count": null,
   "id": "ad41f76d-841b-4160-ac9f-7487e0adb275",
   "metadata": {},
   "outputs": [],
   "source": [
    "# Export the results as a text file\n",
    "output_path = 'results.txt'\n",
    "\n",
    "# Open the output_path as a file object\n",
    "with open(output_path, 'w') as file:\n",
    "    # Write all results of Financial Analysis to the output file\n",
    "    file.write(\"Financial Analysis\")\n",
    "    file.write(\"---------------------------\"\n",
    "    file.write(f\"Total Months: {total_months}\")\n",
    "    file.write(f\"Total Profits/Losses: ${net_total_pnl}\")\n",
    "    file.write(f\"Average Change: ${average_change_pnl}\")\n",
    "    file.write(f\"Greatest Increase in Profits: ${greatest_increase_in_profits}\") # add date & profit\n",
    "    file.write(f\"Greatest Decrease in Profits: ${greatest_decrease_in_profits}\")\n",
    "file.close()"
   ]
  },
  {
   "cell_type": "code",
   "execution_count": null,
   "id": "d628aec3-2698-40ae-abcb-c5d069940de0",
   "metadata": {},
   "outputs": [],
   "source": []
  }
 ],
 "metadata": {
  "kernelspec": {
   "display_name": "Python 3",
   "language": "python",
   "name": "python3"
  },
  "language_info": {
   "codemirror_mode": {
    "name": "ipython",
    "version": 3
   },
   "file_extension": ".py",
   "mimetype": "text/x-python",
   "name": "python",
   "nbconvert_exporter": "python",
   "pygments_lexer": "ipython3",
   "version": "3.8.8"
  }
 },
 "nbformat": 4,
 "nbformat_minor": 5
}
